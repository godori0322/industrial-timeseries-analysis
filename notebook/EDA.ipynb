{
 "cells": [
  {
   "cell_type": "markdown",
   "id": "7d3304e0",
   "metadata": {},
   "source": [
    "# **Smart Manufacturing Process Data EDA**\n",
    "\n",
    "*시계열 데이터 분석*"
   ]
  },
  {
   "cell_type": "markdown",
   "id": "38023b6e",
   "metadata": {},
   "source": [
    "About this file\n",
    "\n",
    "This file contains time-series data collected from a smart manufacturing system, including machine temperature, speed, vibration levels, energy consumption, and quality scores. \n",
    "\n",
    "Each row represents one minute of operational data, with a binary indicator showing whether optimal operating conditions were met. \n",
    "\n",
    "Ideal for predictive maintenance, energy analysis, and quality control tasks.\n",
    "\n",
    "이 데이터는 스마트 공정 시스템에서 수집한 시계열 데이터로, 기계 온도, 속도, 진동 단계, 에너지 소비량, 품질 점수를 포함한다. \n",
    "\n",
    "각 행은 1분 단위의 데이터를 의미하며, Optimal Conditions를 통해 최적 조건을 만족했는지 나타낸다. \n",
    "\n",
    "예측 유지보수, 에너지 소비 분석, 품질 관리 문제에 적합한 데이터셋이다. "
   ]
  },
  {
   "cell_type": "markdown",
   "id": "03fd4bd4",
   "metadata": {},
   "source": [
    "# 사전준비"
   ]
  },
  {
   "cell_type": "markdown",
   "id": "c1e560d1",
   "metadata": {},
   "source": [
    "## 필요 라이브러리 임포트"
   ]
  },
  {
   "cell_type": "code",
   "execution_count": 1,
   "id": "68b3b09b",
   "metadata": {},
   "outputs": [],
   "source": [
    "import numpy as np\n",
    "import pandas as pd\n",
    "import matplotlib.pyplot as plt"
   ]
  },
  {
   "cell_type": "markdown",
   "id": "2db2fa8c",
   "metadata": {},
   "source": [
    "## 데이터 EDA"
   ]
  },
  {
   "cell_type": "code",
   "execution_count": 6,
   "id": "ec3e5f08",
   "metadata": {},
   "outputs": [
    {
     "data": {
      "text/html": [
       "<div>\n",
       "<style scoped>\n",
       "    .dataframe tbody tr th:only-of-type {\n",
       "        vertical-align: middle;\n",
       "    }\n",
       "\n",
       "    .dataframe tbody tr th {\n",
       "        vertical-align: top;\n",
       "    }\n",
       "\n",
       "    .dataframe thead th {\n",
       "        text-align: right;\n",
       "    }\n",
       "</style>\n",
       "<table border=\"1\" class=\"dataframe\">\n",
       "  <thead>\n",
       "    <tr style=\"text-align: right;\">\n",
       "      <th></th>\n",
       "      <th>Timestamp</th>\n",
       "      <th>Temperature (°C)</th>\n",
       "      <th>Machine Speed (RPM)</th>\n",
       "      <th>Production Quality Score</th>\n",
       "      <th>Vibration Level (mm/s)</th>\n",
       "      <th>Energy Consumption (kWh)</th>\n",
       "      <th>Optimal Conditions</th>\n",
       "    </tr>\n",
       "  </thead>\n",
       "  <tbody>\n",
       "    <tr>\n",
       "      <th>0</th>\n",
       "      <td>2025-04-01 08:00:00</td>\n",
       "      <td>78.92</td>\n",
       "      <td>1461</td>\n",
       "      <td>8.49</td>\n",
       "      <td>0.07</td>\n",
       "      <td>1.97</td>\n",
       "      <td>0</td>\n",
       "    </tr>\n",
       "    <tr>\n",
       "      <th>1</th>\n",
       "      <td>2025-04-01 08:01:00</td>\n",
       "      <td>71.83</td>\n",
       "      <td>1549</td>\n",
       "      <td>8.97</td>\n",
       "      <td>0.04</td>\n",
       "      <td>1.01</td>\n",
       "      <td>0</td>\n",
       "    </tr>\n",
       "    <tr>\n",
       "      <th>2</th>\n",
       "      <td>2025-04-01 08:02:00</td>\n",
       "      <td>74.88</td>\n",
       "      <td>1498</td>\n",
       "      <td>8.52</td>\n",
       "      <td>0.08</td>\n",
       "      <td>1.60</td>\n",
       "      <td>0</td>\n",
       "    </tr>\n",
       "    <tr>\n",
       "      <th>3</th>\n",
       "      <td>2025-04-01 08:03:00</td>\n",
       "      <td>77.27</td>\n",
       "      <td>1478</td>\n",
       "      <td>8.28</td>\n",
       "      <td>0.09</td>\n",
       "      <td>1.87</td>\n",
       "      <td>0</td>\n",
       "    </tr>\n",
       "    <tr>\n",
       "      <th>4</th>\n",
       "      <td>2025-04-01 08:04:00</td>\n",
       "      <td>76.50</td>\n",
       "      <td>1524</td>\n",
       "      <td>8.07</td>\n",
       "      <td>0.04</td>\n",
       "      <td>1.53</td>\n",
       "      <td>0</td>\n",
       "    </tr>\n",
       "  </tbody>\n",
       "</table>\n",
       "</div>"
      ],
      "text/plain": [
       "             Timestamp  Temperature (°C)  Machine Speed (RPM)  \\\n",
       "0  2025-04-01 08:00:00             78.92                 1461   \n",
       "1  2025-04-01 08:01:00             71.83                 1549   \n",
       "2  2025-04-01 08:02:00             74.88                 1498   \n",
       "3  2025-04-01 08:03:00             77.27                 1478   \n",
       "4  2025-04-01 08:04:00             76.50                 1524   \n",
       "\n",
       "   Production Quality Score  Vibration Level (mm/s)  Energy Consumption (kWh)  \\\n",
       "0                      8.49                    0.07                      1.97   \n",
       "1                      8.97                    0.04                      1.01   \n",
       "2                      8.52                    0.08                      1.60   \n",
       "3                      8.28                    0.09                      1.87   \n",
       "4                      8.07                    0.04                      1.53   \n",
       "\n",
       "   Optimal Conditions  \n",
       "0                   0  \n",
       "1                   0  \n",
       "2                   0  \n",
       "3                   0  \n",
       "4                   0  "
      ]
     },
     "execution_count": 6,
     "metadata": {},
     "output_type": "execute_result"
    }
   ],
   "source": [
    "data_path  = \"../data/raw/Manufacturing_dataset.csv\"\n",
    "df = pd.read_csv(data_path)\n",
    "df.head()"
   ]
  },
  {
   "cell_type": "markdown",
   "id": "0603fa2d",
   "metadata": {},
   "source": [
    "데이터는 총 7개의 column으로 구성되어 있으며, Optimal Condition의 경우 해당 시점의 공정이 최적 상태일 경우 1, 그렇지 않은 경우 0으로 표현된다. "
   ]
  },
  {
   "cell_type": "code",
   "execution_count": 7,
   "id": "10dc32bc",
   "metadata": {},
   "outputs": [
    {
     "name": "stdout",
     "output_type": "stream",
     "text": [
      "<class 'pandas.core.frame.DataFrame'>\n",
      "RangeIndex: 10000 entries, 0 to 9999\n",
      "Data columns (total 7 columns):\n",
      " #   Column                    Non-Null Count  Dtype  \n",
      "---  ------                    --------------  -----  \n",
      " 0   Timestamp                 10000 non-null  object \n",
      " 1   Temperature (°C)          10000 non-null  float64\n",
      " 2   Machine Speed (RPM)       10000 non-null  int64  \n",
      " 3   Production Quality Score  10000 non-null  float64\n",
      " 4   Vibration Level (mm/s)    10000 non-null  float64\n",
      " 5   Energy Consumption (kWh)  10000 non-null  float64\n",
      " 6   Optimal Conditions        10000 non-null  int64  \n",
      "dtypes: float64(4), int64(2), object(1)\n",
      "memory usage: 547.0+ KB\n",
      "None\n"
     ]
    }
   ],
   "source": [
    "print(df.info())"
   ]
  },
  {
   "cell_type": "markdown",
   "id": "6514c719",
   "metadata": {},
   "source": [
    "데이터는 총 10000개의 행으로 구성되어 있으며, 결측치는 존재하지 않는다. "
   ]
  },
  {
   "cell_type": "code",
   "execution_count": 8,
   "id": "ea811cc0",
   "metadata": {},
   "outputs": [
    {
     "data": {
      "text/html": [
       "<div>\n",
       "<style scoped>\n",
       "    .dataframe tbody tr th:only-of-type {\n",
       "        vertical-align: middle;\n",
       "    }\n",
       "\n",
       "    .dataframe tbody tr th {\n",
       "        vertical-align: top;\n",
       "    }\n",
       "\n",
       "    .dataframe thead th {\n",
       "        text-align: right;\n",
       "    }\n",
       "</style>\n",
       "<table border=\"1\" class=\"dataframe\">\n",
       "  <thead>\n",
       "    <tr style=\"text-align: right;\">\n",
       "      <th></th>\n",
       "      <th>Temperature (°C)</th>\n",
       "      <th>Machine Speed (RPM)</th>\n",
       "      <th>Production Quality Score</th>\n",
       "      <th>Vibration Level (mm/s)</th>\n",
       "      <th>Energy Consumption (kWh)</th>\n",
       "      <th>Optimal Conditions</th>\n",
       "    </tr>\n",
       "  </thead>\n",
       "  <tbody>\n",
       "    <tr>\n",
       "      <th>count</th>\n",
       "      <td>10000.000000</td>\n",
       "      <td>10000.000000</td>\n",
       "      <td>10000.000000</td>\n",
       "      <td>10000.000000</td>\n",
       "      <td>10000.000000</td>\n",
       "      <td>10000.000000</td>\n",
       "    </tr>\n",
       "    <tr>\n",
       "      <th>mean</th>\n",
       "      <td>74.989407</td>\n",
       "      <td>1499.562400</td>\n",
       "      <td>8.500839</td>\n",
       "      <td>0.065218</td>\n",
       "      <td>1.499053</td>\n",
       "      <td>0.096600</td>\n",
       "    </tr>\n",
       "    <tr>\n",
       "      <th>std</th>\n",
       "      <td>1.985371</td>\n",
       "      <td>29.059738</td>\n",
       "      <td>0.287774</td>\n",
       "      <td>0.020607</td>\n",
       "      <td>0.288139</td>\n",
       "      <td>0.295427</td>\n",
       "    </tr>\n",
       "    <tr>\n",
       "      <th>min</th>\n",
       "      <td>67.580000</td>\n",
       "      <td>1450.000000</td>\n",
       "      <td>8.000000</td>\n",
       "      <td>0.030000</td>\n",
       "      <td>1.000000</td>\n",
       "      <td>0.000000</td>\n",
       "    </tr>\n",
       "    <tr>\n",
       "      <th>25%</th>\n",
       "      <td>73.660000</td>\n",
       "      <td>1474.000000</td>\n",
       "      <td>8.250000</td>\n",
       "      <td>0.050000</td>\n",
       "      <td>1.250000</td>\n",
       "      <td>0.000000</td>\n",
       "    </tr>\n",
       "    <tr>\n",
       "      <th>50%</th>\n",
       "      <td>75.000000</td>\n",
       "      <td>1500.000000</td>\n",
       "      <td>8.500000</td>\n",
       "      <td>0.070000</td>\n",
       "      <td>1.500000</td>\n",
       "      <td>0.000000</td>\n",
       "    </tr>\n",
       "    <tr>\n",
       "      <th>75%</th>\n",
       "      <td>76.340000</td>\n",
       "      <td>1525.000000</td>\n",
       "      <td>8.750000</td>\n",
       "      <td>0.080000</td>\n",
       "      <td>1.750000</td>\n",
       "      <td>0.000000</td>\n",
       "    </tr>\n",
       "    <tr>\n",
       "      <th>max</th>\n",
       "      <td>82.470000</td>\n",
       "      <td>1549.000000</td>\n",
       "      <td>9.000000</td>\n",
       "      <td>0.100000</td>\n",
       "      <td>2.000000</td>\n",
       "      <td>1.000000</td>\n",
       "    </tr>\n",
       "  </tbody>\n",
       "</table>\n",
       "</div>"
      ],
      "text/plain": [
       "       Temperature (°C)  Machine Speed (RPM)  Production Quality Score  \\\n",
       "count      10000.000000         10000.000000              10000.000000   \n",
       "mean          74.989407          1499.562400                  8.500839   \n",
       "std            1.985371            29.059738                  0.287774   \n",
       "min           67.580000          1450.000000                  8.000000   \n",
       "25%           73.660000          1474.000000                  8.250000   \n",
       "50%           75.000000          1500.000000                  8.500000   \n",
       "75%           76.340000          1525.000000                  8.750000   \n",
       "max           82.470000          1549.000000                  9.000000   \n",
       "\n",
       "       Vibration Level (mm/s)  Energy Consumption (kWh)  Optimal Conditions  \n",
       "count            10000.000000              10000.000000        10000.000000  \n",
       "mean                 0.065218                  1.499053            0.096600  \n",
       "std                  0.020607                  0.288139            0.295427  \n",
       "min                  0.030000                  1.000000            0.000000  \n",
       "25%                  0.050000                  1.250000            0.000000  \n",
       "50%                  0.070000                  1.500000            0.000000  \n",
       "75%                  0.080000                  1.750000            0.000000  \n",
       "max                  0.100000                  2.000000            1.000000  "
      ]
     },
     "execution_count": 8,
     "metadata": {},
     "output_type": "execute_result"
    }
   ],
   "source": [
    "df.describe()"
   ]
  },
  {
   "cell_type": "markdown",
   "id": "7499ada3",
   "metadata": {},
   "source": [
    "Temperature, Machine Speed, Production Quality Score, Vibration Level, Energy Consumption은 모두 좁은 범위에 존재하는 수치이다. \n",
    "\n",
    "Optimal Condition의 경우 평균이 약 0.096으로, 최적 공정 상태(1)이 그렇지 않은 경우(0)보다 훨씬 적음을 추론 가능하다. "
   ]
  },
  {
   "cell_type": "markdown",
   "id": "5819d38c",
   "metadata": {},
   "source": [
    "## 이상치 확인"
   ]
  },
  {
   "cell_type": "code",
   "execution_count": 10,
   "id": "13c52fc0",
   "metadata": {},
   "outputs": [
    {
     "data": {
      "image/png": "[encoded data removed]",
      "text/plain": [
       "<Figure size 1200x800 with 1 Axes>"
      ]
     },
     "metadata": {},
     "output_type": "display_data"
    }
   ],
   "source": [
    "# 이상치 확인\n",
    "plt.figure(figsize=(12, 8))\n",
    "df.boxplot(column=['Temperature (°C)', 'Machine Speed (RPM)', 'Production Quality Score', 'Vibration Level (mm/s)', 'Energy Consumption (kWh)'])\n",
    "plt.title('Boxplot for Numerical Features')\n",
    "plt.xlabel('Features')\n",
    "plt.ylabel('Values')\n",
    "plt.show()"
   ]
  },
  {
   "cell_type": "markdown",
   "id": "cecf99aa",
   "metadata": {},
   "source": [
    "Boxplot으로 확인 결과, 모든 feature에서 이상치로 탐지되는 수치는 존재하지 않는다. "
   ]
  },
  {
   "cell_type": "code",
   "execution_count": null,
   "id": "76099436",
   "metadata": {},
   "outputs": [],
   "source": []
  }
 ],
 "metadata": {
  "kernelspec": {
   "display_name": ".tsvenv",
   "language": "python",
   "name": "python3"
  },
  "language_info": {
   "codemirror_mode": {
    "name": "ipython",
    "version": 3
   },
   "file_extension": ".py",
   "mimetype": "text/x-python",
   "name": "python",
   "nbconvert_exporter": "python",
   "pygments_lexer": "ipython3",
   "version": "3.11.9"
  }
 },
 "nbformat": 4,
 "nbformat_minor": 5
}
